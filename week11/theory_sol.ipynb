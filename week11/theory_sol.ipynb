{
 "cells": [
  {
   "cell_type": "markdown",
   "metadata": {},
   "source": [
    "`HHLLLHHHHLLLLHH`\n",
    "\n",
    "`SSSRRSSSRRRRSSS`\n",
    "\n",
    "\n",
    "`LLHHLLLHHHHLLHH`\n",
    "\n",
    "`RRRSSRRRSSSRRRS`"
   ]
  },
  {
   "cell_type": "markdown",
   "metadata": {},
   "source": [
    "**Exercise 1.1**\n",
    "- Start:\n",
    "    - Count: $H=1, L=1$\n",
    "    - Probabilities: $p(H)=1/2, p(L)=1/2$\n",
    "- Transition: Count and probabilities:\n",
    "    - $H\\rightarrow H =10$, $p=\\frac{10}{14}$\n",
    "    - $H\\rightarrow L = 4$, $p=\\frac{4}{14}$\n",
    "    - $L\\rightarrow H=5$, $p=\\frac{5}{14}$\n",
    "    - $L\\rightarrow L=9$, $p=\\frac{9}{14}$\n",
    "- Emmisions: count and probabilities:\n",
    "    - $S|L=3$, $p=\\frac3{14}$\n",
    "    - $S|H=12$, $p=\\frac{12}{16}$\n",
    "    - $R|L=11$, $p=\\frac{11}{14}$\n",
    "    - $R|H=4$, $p=\\frac4{16}$"
   ]
  }
 ],
 "metadata": {
  "kernelspec": {
   "display_name": "Python 3.11.0 64-bit",
   "language": "python",
   "name": "python3"
  },
  "language_info": {
   "name": "python",
   "version": "3.11.0"
  },
  "orig_nbformat": 4,
  "vscode": {
   "interpreter": {
    "hash": "e7370f93d1d0cde622a1f8e1c04877d8463912d04d973331ad4851f04de6915a"
   }
  }
 },
 "nbformat": 4,
 "nbformat_minor": 2
}
