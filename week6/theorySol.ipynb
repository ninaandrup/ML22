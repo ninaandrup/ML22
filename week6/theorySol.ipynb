{
 "cells": [
  {
   "cell_type": "code",
   "execution_count": 4,
   "metadata": {},
   "outputs": [],
   "source": [
    "import numpy as np"
   ]
  },
  {
   "cell_type": "markdown",
   "metadata": {},
   "source": [
    "# Exercise 1"
   ]
  },
  {
   "cell_type": "markdown",
   "metadata": {},
   "source": [
    "## Exercise 1.1"
   ]
  },
  {
   "cell_type": "markdown",
   "metadata": {},
   "source": [
    "- Input: $x$\n",
    "- Weight: $c$"
   ]
  },
  {
   "cell_type": "markdown",
   "metadata": {},
   "source": [
    "## Exercise 1.2"
   ]
  },
  {
   "cell_type": "markdown",
   "metadata": {},
   "source": [
    "![pic](pics/IMG_20221001_134936.jpg)"
   ]
  },
  {
   "cell_type": "markdown",
   "metadata": {},
   "source": [
    "## Exercise 1.3"
   ]
  },
  {
   "cell_type": "markdown",
   "metadata": {},
   "source": [
    "![pic](pics/IMG_20221001_135146.jpg)"
   ]
  },
  {
   "cell_type": "code",
   "execution_count": 3,
   "metadata": {},
   "outputs": [
    {
     "name": "stdout",
     "output_type": "stream",
     "text": [
      "x1: 0 , x2: 0 , max:  0\n",
      "x1: 1 , x2: 0 , max:  1\n",
      "x1: 0 , x2: 1 , max:  1\n",
      "x1: -1 , x2: 0 , max:  0\n",
      "x1: 0 , x2: -1 , max:  0\n",
      "x1: 1 , x2: -1 , max:  1\n",
      "x1: -1 , x2: 1 , max:  1\n",
      "x1: 4 , x2: 10 , max:  10\n",
      "x1: 10 , x2: 4 , max:  10\n",
      "x1: -4 , x2: 10 , max:  10\n",
      "x1: 10 , x2: -4 , max:  10\n",
      "x1: 4 , x2: -10 , max:  4\n",
      "x1: -10 , x2: 4 , max:  4\n",
      "x1: -4 , x2: -10 , max:  -4\n",
      "x1: -10 , x2: -4 , max:  -4\n"
     ]
    }
   ],
   "source": [
    "import numpy as np\n",
    "\n",
    "def max1(x):\n",
    "    if 0 < x:\n",
    "        return x\n",
    "    return 0\n",
    "\n",
    "def max2(x1, x2):\n",
    "    return max1(x1-x2) + max1(x2) - max1(-x2)\n",
    "\n",
    "x = np.array([[0, 0],\n",
    "              [1, 0],\n",
    "              [0, 1],\n",
    "              [-1, 0],\n",
    "              [0, -1],\n",
    "              [1, -1],\n",
    "              [-1, 1],\n",
    "              [4, 10],\n",
    "              [10, 4],\n",
    "              [-4, 10],\n",
    "              [10, -4],\n",
    "              [4, -10],\n",
    "              [-10, 4],\n",
    "              [-4, -10],\n",
    "              [-10, -4]\n",
    "              ])\n",
    "\n",
    "n, _ = x.shape\n",
    "\n",
    "for i in range(n):\n",
    "    print(\"x1:\", x[i,0], \", x2:\", x[i,1], \", max: \", max2(x[i,0], x[i,1]))"
   ]
  },
  {
   "cell_type": "markdown",
   "metadata": {},
   "source": [
    "# Exercise 2"
   ]
  },
  {
   "cell_type": "markdown",
   "metadata": {},
   "source": []
  }
 ],
 "metadata": {
  "kernelspec": {
   "display_name": "Python 3.10.2 64-bit",
   "language": "python",
   "name": "python3"
  },
  "language_info": {
   "codemirror_mode": {
    "name": "ipython",
    "version": 3
   },
   "file_extension": ".py",
   "mimetype": "text/x-python",
   "name": "python",
   "nbconvert_exporter": "python",
   "pygments_lexer": "ipython3",
   "version": "3.10.2"
  },
  "orig_nbformat": 4,
  "vscode": {
   "interpreter": {
    "hash": "38fcd0859b8816aaa7d30d456c4584ee879b3ad966f5d1dbaa94898d316a3ef6"
   }
  }
 },
 "nbformat": 4,
 "nbformat_minor": 2
}
