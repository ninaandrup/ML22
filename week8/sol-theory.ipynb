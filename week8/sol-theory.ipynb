{
 "cells": [
  {
   "cell_type": "markdown",
   "metadata": {},
   "source": [
    "# Exercise 1"
   ]
  },
  {
   "cell_type": "markdown",
   "metadata": {},
   "source": [
    "## Part 1"
   ]
  },
  {
   "cell_type": "markdown",
   "metadata": {},
   "source": [
    "$d_{VC}(H)$ is the largest value of $N$ for which the growth function $m_H(N)=2^N$."
   ]
  },
  {
   "cell_type": "markdown",
   "metadata": {},
   "source": [
    "We need to\n",
    "1. Show dataset of size n that we can shatter.\n",
    "2. No dataset of size n+1 can be shattered."
   ]
  },
  {
   "cell_type": "markdown",
   "metadata": {},
   "source": [
    "The hypothesis cannot classify more than 2 datapoint perfectly."
   ]
  },
  {
   "cell_type": "markdown",
   "metadata": {},
   "source": [
    "Argument:\n",
    "1. We can always split all possible labels of 2 datapoints.\n",
    "2. Labeling `+ - +` is not possible for any dataset of size 3."
   ]
  },
  {
   "cell_type": "markdown",
   "metadata": {},
   "source": [
    "## Part 2"
   ]
  },
  {
   "cell_type": "markdown",
   "metadata": {},
   "source": [
    "We can do this with\n",
    "- $h_1$: $z$ if $a<x$ and $-z$ otherwise\n",
    "- $h_2$: $z$ if $x \\leq b$ and $-z$ otherwise"
   ]
  },
  {
   "cell_type": "markdown",
   "metadata": {},
   "source": [
    "Then we have the following cases:\n",
    "- $x\\leq a \\Rightarrow $\n",
    "  - $h_1=-z$ and $h_2=z \\Rightarrow$\n",
    "  - $ h_1+h_2=0$\n",
    "- $a<x\\leq b \\Rightarrow$\n",
    "  - $ h_1=z$ and $h_2=z\\Rightarrow$\n",
    "  - $ h_1+h_2=2z$\n",
    "- $b<x\\Rightarrow$\n",
    "  - $ h_1=z$ and $h_2=-z\\Rightarrow $\n",
    "  - $h_1+h_2=0$"
   ]
  },
  {
   "cell_type": "markdown",
   "metadata": {},
   "source": [
    "## Part 3"
   ]
  },
  {
   "cell_type": "markdown",
   "metadata": {},
   "source": [
    "We want to show that $VC(C)=\\infty$."
   ]
  },
  {
   "cell_type": "markdown",
   "metadata": {},
   "source": [
    "We use the method from 2. to classify every data point perfectly.\n",
    "\n",
    "Note: for 2. we set $z=\\frac {y_i} 2$ to get the correct classification."
   ]
  },
  {
   "cell_type": "markdown",
   "metadata": {},
   "source": [
    "VC dimention is infinity, because we can always shatter the points."
   ]
  },
  {
   "cell_type": "markdown",
   "metadata": {},
   "source": [
    "## Part 4"
   ]
  },
  {
   "cell_type": "markdown",
   "metadata": {},
   "source": [
    "We can make $2(n-1)+2 = 2n$ number of dichothemis."
   ]
  },
  {
   "cell_type": "markdown",
   "metadata": {},
   "source": [
    "## Part 5"
   ]
  },
  {
   "cell_type": "markdown",
   "metadata": {},
   "source": [
    "- 1 stump can make 2n dichotemies.\n",
    "- 2 stumps can make $(2n)^2$ dichotemies"
   ]
  },
  {
   "cell_type": "markdown",
   "metadata": {},
   "source": [
    "$m_{C^T}(n)\\leq (2n)^T$"
   ]
  },
  {
   "cell_type": "markdown",
   "metadata": {},
   "source": [
    "# Exercise 3"
   ]
  },
  {
   "cell_type": "markdown",
   "metadata": {},
   "source": []
  }
 ],
 "metadata": {
  "kernelspec": {
   "display_name": "Python 3.10.8 64-bit (microsoft store)",
   "language": "python",
   "name": "python3"
  },
  "language_info": {
   "name": "python",
   "version": "3.10.8"
  },
  "orig_nbformat": 4,
  "vscode": {
   "interpreter": {
    "hash": "f3e24353c4a449eb3c40ff9c25ce82bbcd406208b3e91f730cf22ee9dfc8dd5c"
   }
  }
 },
 "nbformat": 4,
 "nbformat_minor": 2
}
