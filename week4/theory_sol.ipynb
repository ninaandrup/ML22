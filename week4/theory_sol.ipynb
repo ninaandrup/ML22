{
 "cells": [
  {
   "cell_type": "markdown",
   "metadata": {},
   "source": [
    "# Exercise 1\n",
    "\n",
    "| $f(x)$ | $f'(x)$ | $f''(x) | Conveks?\n",
    "| -- | -- | -- | -- |\n",
    "| 2 | 0 | 0 | Ja |\n",
    "| $-\\ln(x)$ | $-\\frac1x$ | $\\frac1{x^2}$ | Ja | \n",
    "|$x^3$|$3x^2$|$6x$| Nej |\n",
    "|$x^2+x^4$|$2x+4x^3$|$2+12x^2$|Ja|"
   ]
  },
  {
   "cell_type": "markdown",
   "metadata": {},
   "source": [
    "# Exercise 1\n",
    "- $f''(x)=(2)''=(0)'=0$ => Convex\n",
    "- $f''(x)=(-\\ln(x))'' = (-\\frac1x)'=\\frac 1{x^2}$ => Convex\n",
    "- $f''(x)=(x^3)''=(3x^2)'=6x$ => NOT Convex\n",
    "- $f''(x)=(x^2+x^4)''=(2x+4x^3)'=2+12x^2$  => Convex"
   ]
  },
  {
   "cell_type": "markdown",
   "metadata": {},
   "source": [
    "# Exercise 2"
   ]
  },
  {
   "cell_type": "markdown",
   "metadata": {},
   "source": [
    "$A^TA$ er positiv semi definit:\n",
    "\n",
    "$$\n",
    "x^TA^TAx\\geq 0 \\hspace{10mm}\\forall x\\in\\mathbb R^d\n",
    "$$\n",
    "$$\n",
    "(Ax)^TAx=y^T y=\\sum y_i ^2\n",
    "$$"
   ]
  },
  {
   "cell_type": "markdown",
   "metadata": {},
   "source": [
    "Vi vil gerne vise:\n",
    "$$\n",
    "X^TX = H\n",
    "$$"
   ]
  },
  {
   "cell_type": "markdown",
   "metadata": {},
   "source": [
    "# Exercise 3"
   ]
  },
  {
   "cell_type": "markdown",
   "metadata": {},
   "source": [
    "Function:\n",
    "$$\n",
    "f_a(x_1,x_2)=\\frac12\\left(x_1^2+a\\cdot x_2^2 \\right)\n",
    "$$"
   ]
  },
  {
   "cell_type": "markdown",
   "metadata": {},
   "source": [
    "$$\n",
    "f'_a(x_1, x_2)=\\left(\\frac12\\left(x_1^2+a\\cdot x_2^2 \\right)\\right)' = (x_1,a\\cdot x_2)\n",
    "$$"
   ]
  },
  {
   "cell_type": "markdown",
   "metadata": {},
   "source": [
    "# Exercise 4"
   ]
  },
  {
   "cell_type": "markdown",
   "metadata": {},
   "source": [
    "$$\n",
    "(f\\circ(g\\circ h))'=f'(g\\circ h)\\cdot (g\\circ h)'=f'(g\\circ h)\\cdot (g'(h)\\cdot h')\n",
    "$$"
   ]
  },
  {
   "cell_type": "markdown",
   "metadata": {},
   "source": [
    "Step 1\n",
    "$$\n",
    "\\begin{align*}\n",
    "f'(w)&=(-\\ln(\\sigma(yw^Tx)))\\\\\n",
    "&=-\\left( \\frac1{\\sigma(yw^Tx)} \\cdot \\left( \\sigma(yw^Tx)\\sigma(-yw^Tx) \\cdot yx \\right) \\right)\\\\\n",
    "&= - \\sigma(-ywx)yx\n",
    "\\end{align*}\n",
    "$$"
   ]
  },
  {
   "cell_type": "markdown",
   "metadata": {},
   "source": [
    "Step 2\n",
    "$$\n",
    "\\begin{align*}\n",
    "f''(w)&=( - \\sigma(-ywx)yx)'\n",
    "\\end{align*}\n",
    "$$"
   ]
  }
 ],
 "metadata": {
  "kernelspec": {
   "display_name": "Python 3.10.2 64-bit",
   "language": "python",
   "name": "python3"
  },
  "language_info": {
   "name": "python",
   "version": "3.10.2"
  },
  "orig_nbformat": 4,
  "vscode": {
   "interpreter": {
    "hash": "38fcd0859b8816aaa7d30d456c4584ee879b3ad966f5d1dbaa94898d316a3ef6"
   }
  }
 },
 "nbformat": 4,
 "nbformat_minor": 2
}
