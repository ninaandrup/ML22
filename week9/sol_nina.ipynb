{
 "cells": [
  {
   "cell_type": "markdown",
   "metadata": {},
   "source": [
    "# Exercise 1"
   ]
  },
  {
   "cell_type": "markdown",
   "metadata": {},
   "source": [
    "## Question 1"
   ]
  },
  {
   "cell_type": "markdown",
   "metadata": {},
   "source": [
    "We get $w=(1, 1)$ and $b=(6, 6)$."
   ]
  },
  {
   "cell_type": "markdown",
   "metadata": {},
   "source": [
    "Margin is: $\\sqrt{5^2\\cdot 5^2}=\\sqrt 50$"
   ]
  },
  {
   "cell_type": "markdown",
   "metadata": {},
   "source": [
    "Our points $x_1$ and $x_2$ are support vectors."
   ]
  },
  {
   "cell_type": "markdown",
   "metadata": {},
   "source": [
    "### To solve the SVM"
   ]
  },
  {
   "cell_type": "markdown",
   "metadata": {},
   "source": [
    "If\n",
    "$$\n",
    "y_1(w^Tx_1+b)>1\n",
    "$$\n",
    "or\n",
    "$$\n",
    "y_2(w^Tx_2+b)>1\n",
    "$$\n",
    "then $w$ is not optimal."
   ]
  },
  {
   "cell_type": "markdown",
   "metadata": {},
   "source": [
    "We want to find a solution for $w=(w_1,w_1)$ for equations\n",
    "$$\n",
    "\\begin{align*}\n",
    "y_1(w^Tx_1+b)=1\\\\\n",
    "y_2(w^Tx_2+b)=1\\\\\n",
    "\\end{align*}\n",
    "$$"
   ]
  },
  {
   "cell_type": "markdown",
   "metadata": {},
   "source": [
    "From inserting the values we get: $w=(\\frac1{10}, \\frac1{10})$ and $b=-1.2$."
   ]
  },
  {
   "cell_type": "markdown",
   "metadata": {},
   "source": [
    "## Question 2"
   ]
  },
  {
   "cell_type": "markdown",
   "metadata": {},
   "source": [
    "![Pic](GeOGebra.jpg)"
   ]
  },
  {
   "cell_type": "markdown",
   "metadata": {},
   "source": [
    "Same as before."
   ]
  },
  {
   "cell_type": "markdown",
   "metadata": {},
   "source": [
    "## Question 3"
   ]
  },
  {
   "cell_type": "markdown",
   "metadata": {},
   "source": [
    "$$\n",
    "\\min_{w,b} \\frac12\\Vert w\\Vert^2\n",
    "$$"
   ]
  },
  {
   "cell_type": "markdown",
   "metadata": {},
   "source": [
    "s.t. \n",
    "$$\n",
    "\\begin{align*}\n",
    "-(w^T\\begin{bmatrix}-10\\\\-10\\end{bmatrix}+b)&\\geq 1\\\\\n",
    "-(w^T\\begin{bmatrix}-5\\\\-2\\end{bmatrix}+b)&\\geq 1\\\\\n",
    "-(w^T\\begin{bmatrix}1\\\\1\\end{bmatrix}+b)&\\geq 1\\\\\n",
    "(w^T\\begin{bmatrix}20\\\\23\\end{bmatrix}+b)&\\geq 1\\\\\n",
    "(w^T\\begin{bmatrix}15\\\\17\\end{bmatrix}+b)&\\geq 1\\\\\n",
    "(w^T\\begin{bmatrix}12\\\\10\\end{bmatrix}+b)&\\geq 1\\\\\n",
    "(w^T\\begin{bmatrix}10\\\\12\\end{bmatrix}+b)&\\geq 1\\\\\n",
    "\\end{align*}\n",
    "$$"
   ]
  },
  {
   "cell_type": "markdown",
   "metadata": {},
   "source": [
    "# Exercise 2"
   ]
  },
  {
   "cell_type": "markdown",
   "metadata": {},
   "source": [
    "## Question 1"
   ]
  },
  {
   "cell_type": "markdown",
   "metadata": {},
   "source": [
    "The constraints:\n",
    "$$\n",
    "\\begin{align*}\n",
    "-(w^T(1,1)+b)\\geq 1-\\xi_1\\\\\n",
    "(w^T(3,3)+b)\\geq 1-\\xi_2\\\\\n",
    "(w^T(11,11)+b)\\geq 1-\\xi_3\\\\\n",
    "\\end{align*}\n",
    "$$"
   ]
  },
  {
   "cell_type": "markdown",
   "metadata": {},
   "source": [
    "## Question 2"
   ]
  },
  {
   "cell_type": "markdown",
   "metadata": {},
   "source": [
    "If we insert $w=[0.1, 0.1]$ and $b=-1.2$ in the formulas above, we can isolate the $\\xi$'s"
   ]
  },
  {
   "cell_type": "markdown",
   "metadata": {},
   "source": [
    "$$\n",
    "\\begin{align*}\n",
    "\\xi_1&\\geq0\\\\\n",
    "\\xi_2&\\geq1.6\\\\\n",
    "\\xi_3&\\geq0\\\\\n",
    "\\end{align*}\n",
    "$$"
   ]
  },
  {
   "cell_type": "markdown",
   "metadata": {},
   "source": [
    "We can set $\\xi_1=\\xi_3=0$. And now we get cost: $1.6C$"
   ]
  },
  {
   "cell_type": "markdown",
   "metadata": {},
   "source": [
    "## Question 3"
   ]
  },
  {
   "cell_type": "markdown",
   "metadata": {},
   "source": [
    "When $b$ and $w$ is given\n",
    "$\\forall i$\n",
    "$$y_i(w^Tx_i+b\\geq 1-\\xi_i), \\xi_i\\geq 0$$\n",
    "Which gives us\n",
    "$$\n",
    "\\xi_i=\\max(0, 1-y_i(w^Tx_i+b))\n",
    "$$"
   ]
  },
  {
   "cell_type": "markdown",
   "metadata": {},
   "source": [
    "## Question 4"
   ]
  },
  {
   "cell_type": "markdown",
   "metadata": {},
   "source": [
    "As for the first exercise we want $w=(1,1)$, which we can scale to be unit length $\\Vert w\\Vert^2 =1\\Rightarrow w=\\frac1{\\sqrt 2}(1, 1)$"
   ]
  },
  {
   "cell_type": "markdown",
   "metadata": {},
   "source": [
    "Then we get $b=-2\\sqrt 2$ and choose all $\\xi_i=0$."
   ]
  },
  {
   "cell_type": "markdown",
   "metadata": {},
   "source": [
    "This is the $w$ and $b$ which is the hyperplane between (1,1) and (3,3)."
   ]
  },
  {
   "cell_type": "markdown",
   "metadata": {},
   "source": [
    "This gives all $\\xi_i=0$ and a better hyperplane."
   ]
  },
  {
   "cell_type": "markdown",
   "metadata": {},
   "source": [
    "# Exercise 3"
   ]
  },
  {
   "cell_type": "markdown",
   "metadata": {},
   "source": []
  }
 ],
 "metadata": {
  "kernelspec": {
   "display_name": "Python 3.10.8 64-bit (microsoft store)",
   "language": "python",
   "name": "python3"
  },
  "language_info": {
   "name": "python",
   "version": "3.10.8"
  },
  "orig_nbformat": 4,
  "vscode": {
   "interpreter": {
    "hash": "f3e24353c4a449eb3c40ff9c25ce82bbcd406208b3e91f730cf22ee9dfc8dd5c"
   }
  }
 },
 "nbformat": 4,
 "nbformat_minor": 2
}
