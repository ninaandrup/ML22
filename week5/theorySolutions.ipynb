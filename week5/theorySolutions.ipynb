{
 "cells": [
  {
   "cell_type": "markdown",
   "metadata": {},
   "source": [
    "# Exercise 1"
   ]
  },
  {
   "cell_type": "markdown",
   "metadata": {},
   "source": [
    "## Recap on this:\n",
    "- Growth function: $m_H(n)=\\max_{x_1, \\dots, x_n}\\vert \\{ h(x_1), h(x_2), \\dots, h_(x_n)\\mid h\\in H \\} \\vert$\n",
    "- If $m_H(n)=2^n$, then the points are shattered.\n",
    "- Else if $m_H(n)<2^n$, then $n$ is a break point."
   ]
  },
  {
   "cell_type": "markdown",
   "metadata": {},
   "source": [
    "## Answers:\n",
    "\n",
    "### Question 1\n",
    "Break point for finite hypothesis set of $n$ hypothesis:\n",
    "\n",
    "The upper bound: $m_H(k)\\leq n$ where $\\vert H\\vert = n$\n",
    "\n",
    "If $n<2^k\\Longrightarrow$ cannot shatter $k$ points.\n",
    "This gives $k=\\log(n)+1$.\n",
    "\n",
    "### Question 2\n",
    "No, it is infinite.\n",
    "\n",
    "$m_H(n)=2^n$\n",
    "\n",
    "### Question 3\n",
    "If we have a point with label +1 closer to the center of the circle than another point with label -1: break point er 2.\n",
    "\n",
    "$m_H(n)=n+1$\n",
    "\n",
    "### Question 4\n",
    "\n",
    "Det generaliserer til d dimensioner, så derfor har man stadig at breaking point er 2.\n",
    "\n",
    "### Question 5\n",
    "\n",
    "If you any have one hypothesis, you can only make one dichothesis. And then the break point is one."
   ]
  },
  {
   "cell_type": "markdown",
   "metadata": {},
   "source": [
    "# Exercise 2"
   ]
  },
  {
   "cell_type": "markdown",
   "metadata": {},
   "source": [
    "### Question 1\n",
    "\n",
    "VC dimentionen only depends on the hypothesis set\n",
    "\n",
    "I think the hypothesis set is given from the learning algorithm.\n",
    "\n",
    "### Question 2\n",
    "\n",
    "NO, the VC dimention is maximum over all data set.\n",
    "\n",
    "### Question 3\n",
    "\n",
    "Ja\n",
    "\n",
    "### Question 4\n",
    "\n",
    "$VC = breakpoint-1$ \n",
    "\n",
    "$k=\\log(M)+1$\n",
    "\n",
    "$VC(H)\\leq \\log(M)$\n",
    "\n",
    "### Question 5\n",
    "\n",
    "To show a hypothesis set has a VC dimension\n",
    "1. Show dataset of size $d$ can be shattered.\n",
    "2. No dataset og size $d+1$ can be shattered.\n",
    "\n",
    "\n",
    "In this example:\n",
    "1. $d=1$ can be shattered\n",
    "2. $d+1=2$ cannot be shattered (when one point is closer to the center as the other).\n",
    "\n",
    "\n",
    "### Question 6\n",
    "\n",
    "Same as above: $VC=1$\n",
    "\n",
    "### Question 7\n",
    "\n",
    "$$VC(\\mathcal H_1\\cap \\mathcal H_2\\cap \\dots \\cap \\mathcal H_n)\\leq\\min(v_1, v_2,\\dots,v_n)$$\n",
    "\n",
    "Follows from 3\n",
    "\n",
    "### Question 8\n",
    "\n",
    "$$\n",
    "VC(\\mathcal H_1\\cup \\mathcal H_2 \\cup\\dots\\cup\\mathcal  H_n)\\geq\\max (v_1, v_2, \\dots, v_n)\n",
    "$$\n",
    "\n",
    "### Question 9\n",
    "\n",
    "We can always find a point set of 4 points to shatter.\n",
    "\n",
    "For five points:\n",
    "Not possible if four points is on different lines of bounding box are of one label, and a middle point has different label.\n",
    "Or if alle points is on lines of the bounding box, where two points on the same line has different labels."
   ]
  }
 ],
 "metadata": {
  "kernelspec": {
   "display_name": "Python 3.10.2 64-bit",
   "language": "python",
   "name": "python3"
  },
  "language_info": {
   "name": "python",
   "version": "3.10.2"
  },
  "orig_nbformat": 4,
  "vscode": {
   "interpreter": {
    "hash": "38fcd0859b8816aaa7d30d456c4584ee879b3ad966f5d1dbaa94898d316a3ef6"
   }
  }
 },
 "nbformat": 4,
 "nbformat_minor": 2
}
